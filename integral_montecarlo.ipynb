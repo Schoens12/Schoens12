import random
import numpy as np
from math import sqrt,atan
from statistics import mean, variance

def f(z):
return sqrt(atan(z))
N=100000
l=[]
for i in range(N):
u=random.random()
l.append(f(u))
print('La integral estimada es:',mean(l))
print('Con una varianza de:',variance(l))
