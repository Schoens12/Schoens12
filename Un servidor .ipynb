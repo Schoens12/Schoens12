{
 "cells": [
  {
   "cell_type": "code",
   "execution_count": 91,
   "id": "d631619d",
   "metadata": {},
   "outputs": [
    {
     "name": "stdout",
     "output_type": "stream",
     "text": [
      "Tp 0\n"
     ]
    }
   ],
   "source": [
    "from math import log,sqrt\n",
    "from random import random\n",
    "import matplotlib.pyplot as plt\n",
    "from statistics import mean, variance\n",
    "import numpy as np\n",
    "\n",
    "def lamt(t):\n",
    "    lamtt = 1 #modificar por cualquier funcion dependiente del tiempo t\n",
    "    #recuerde que 0<lamt(t)<lam para todo t\n",
    "    return lamtt\n",
    "\n",
    "def poiss(lamt,lam,t):\n",
    "    if lamt==1:\n",
    "        Ts=t-(1/lam)*log(random())\n",
    "    else:\n",
    "        tt=t\n",
    "        while 0<=1:\n",
    "            tt=t-(1/lam)*log(random())\n",
    "            U=random()\n",
    "            if U<=(lamt(tt)/lam):\n",
    "                Ts=tt\n",
    "                break\n",
    "    return Ts    \n",
    "\n",
    "lamlleg=1/8\n",
    "lamsal=1/8\n",
    "\n",
    "infi = 1000000000\n",
    "T = 100 #tiempo de la simulacion\n",
    "t = 0 #variable de tiempo\n",
    "NA = 0 #el número de llegadas (hasta el instante t)\n",
    "ND = 0 # el numero de salidas (hasta el instante t)\n",
    "n = 0 #el numero de clientes en el sistema (en el instante t)\n",
    "ES = n\n",
    "TD = poiss(lamt(t),lamlleg,t)#definido por el usuario \n",
    "tA = TD #hora de la siguiente llegada \n",
    "tD = infi #hora a la que concluye el servicio del clienteque se está atendiendo actualmente\n",
    "LE = [tA,tD] #lista de eventos\n",
    "A=[]\n",
    "D=[]\n",
    "while min(tA,tD)<T or n>0:\n",
    "    if tA<= tD and tA<T:\n",
    "        t= tA #nos movemos hasta el tiempo tA\n",
    "        NA += 1\n",
    "        n += 1\n",
    "        Tt = poiss(lamt(t),lamlleg,t)\n",
    "        tA = Tt\n",
    "        if n==1:\n",
    "            ###print(\"n=1, caso 1\")\n",
    "            tD = poiss(lamt(t),lamsal,t)\n",
    "        A.append(t) #el cliente \"NA\" llega en el tiempo t\n",
    "    elif tD<tA and tD<T:\n",
    "        t= tD #nos movemos hasta el tiempo tD\n",
    "        ###print(\"tD\",tD)\n",
    "        n -= 1\n",
    "        ND+=1 \n",
    "        if n==0:\n",
    "            ###print(\"n=0, caso 2\")\n",
    "            tD = infi\n",
    "        else:\n",
    "            ###print(\"n>0, caso 2\")\n",
    "            tD = poiss(lamt(t),lamsal,t)\n",
    "        D.append(t)\n",
    "    if min(tA,tD)>T and n>0:\n",
    "        ###print(\"caso 3\")\n",
    "        t=tD\n",
    "        n -= 1\n",
    "        ND += 1\n",
    "        if n>0:\n",
    "            ###print(\"n>0, caso 3\")\n",
    "            tD = poiss(lamt(t),lamsal,t)\n",
    "        D.append(t)\n",
    "    if min(tA,tD)>T and n==0:\n",
    "        Tp=max(t-T,0)\n",
    "        print(\"Tp\",Tp)\n",
    "    ###print(\"n\",n)\n",
    "    ###print(\"t\",min(tA,tD))\n"
   ]
  },
  {
   "cell_type": "code",
   "execution_count": 92,
   "id": "5110a7e1",
   "metadata": {
    "scrolled": false
   },
   "outputs": [
    {
     "data": {
      "text/plain": [
       "[2.3950594015391253,\n",
       " 10.507188357161851,\n",
       " 29.336454501087136,\n",
       " 38.93694716586311,\n",
       " 52.33569471738386,\n",
       " 63.351480472228815,\n",
       " 69.84639663347603,\n",
       " 71.92290302243035,\n",
       " 87.20627751680641]"
      ]
     },
     "execution_count": 92,
     "metadata": {},
     "output_type": "execute_result"
    }
   ],
   "source": [
    "A"
   ]
  },
  {
   "cell_type": "code",
   "execution_count": 93,
   "id": "d06f547e",
   "metadata": {},
   "outputs": [
    {
     "data": {
      "text/plain": [
       "[17.912828277680468,\n",
       " 20.812560141098576,\n",
       " 31.010158727378656,\n",
       " 48.63113210986574,\n",
       " 54.75742918152033,\n",
       " 71.02207374262612,\n",
       " 85.6556410952601,\n",
       " 88.39894558123382,\n",
       " 90.7800398325211]"
      ]
     },
     "execution_count": 93,
     "metadata": {},
     "output_type": "execute_result"
    }
   ],
   "source": [
    "D"
   ]
  },
  {
   "cell_type": "code",
   "execution_count": null,
   "id": "a555bf3d",
   "metadata": {},
   "outputs": [],
   "source": []
  }
 ],
 "metadata": {
  "kernelspec": {
   "display_name": "Python 3 (ipykernel)",
   "language": "python",
   "name": "python3"
  },
  "language_info": {
   "codemirror_mode": {
    "name": "ipython",
    "version": 3
   },
   "file_extension": ".py",
   "mimetype": "text/x-python",
   "name": "python",
   "nbconvert_exporter": "python",
   "pygments_lexer": "ipython3",
   "version": "3.10.2"
  }
 },
 "nbformat": 4,
 "nbformat_minor": 5
}
